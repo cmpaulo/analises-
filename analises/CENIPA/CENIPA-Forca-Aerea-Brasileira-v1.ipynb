{
 "cells": [
  {
   "cell_type": "markdown",
   "id": "19b8eb64",
   "metadata": {},
   "source": [
    "## CENIPA"
   ]
  },
  {
   "cell_type": "markdown",
   "id": "7c69c743",
   "metadata": {},
   "source": [
    "## Importando bibliotecas"
   ]
  },
  {
   "cell_type": "code",
   "execution_count": 1,
   "id": "e375dd64",
   "metadata": {},
   "outputs": [],
   "source": [
    "import pandas as pd\n",
    "import numpy as np\n",
    "import matplotlib.pyplot as plt"
   ]
  },
  {
   "cell_type": "markdown",
   "id": "f49d82ff",
   "metadata": {},
   "source": [
    "### Lendo o dataset"
   ]
  },
  {
   "cell_type": "markdown",
   "id": "38bbcfb4",
   "metadata": {},
   "source": [
    "ocorrencia.csv colunas\n",
    "codigo_ocorrencia\n",
    "codigo_ocorrencia1\n",
    "codigo_ocorrencia2\n",
    "codigo_ocorrencia3\t\n",
    "ocorrencia_classificacao\n",
    "ocorrencia_uf\n",
    "ocorrencia_aerodromo\n",
    "ocorrencia_dia\n",
    "ocorrencia_hora\n",
    "\n",
    "\n",
    "ocorrencia_tipo.csv colunas\n",
    "codigo_ocorrencia1\n",
    "ocorrencia_tipo\n",
    "\n",
    "aeronave.csv \n",
    "codigo_ocorrencia2\n",
    "aeronave_operador_categoria\n",
    "aeronave_tipo_veiculo\n",
    "\n",
    "fator_contribuinte.csv\n",
    "codigo_ocorrencia3\n",
    "fator_nome\n",
    "fator_area\n"
   ]
  },
  {
   "cell_type": "code",
   "execution_count": 3,
   "id": "496213f9",
   "metadata": {},
   "outputs": [],
   "source": [
    "# 1-\n",
    "principal = pd.read_csv(\"./data/ocorrencia.csv\", sep=';', parse_dates=['ocorrencia_dia'],skip_blank_lines=True)\n",
    "# estas são as tabelas aeronave.csv  fator_contribuinte.csv  ocorrencia.csv  ocorrencia_tipo.csv\n",
    "ocorrencia_tipo = pd.read_csv(\"./data/ocorrencia_tipo.csv\", sep=';', skip_blank_lines=True)\n",
    "\n",
    "aeronave = pd.read_csv(\"./data/aeronave.csv\", sep=';', skip_blank_lines=True)\n",
    "\n",
    "fator_contribuinte = pd.read_csv(\"./data/fator_contribuinte.csv\", sep=';', skip_blank_lines=True)\n"
   ]
  },
  {
   "cell_type": "code",
   "execution_count": 4,
   "id": "5713ad3a",
   "metadata": {},
   "outputs": [],
   "source": [
    "novoprincipal = principal.merge(ocorrencia_tipo,how='inner',on=['codigo_ocorrencia1'])\n",
    "nprin = novoprincipal.merge(aeronave, how='inner', on = ['codigo_ocorrencia2'])\n",
    "# zprin = nprin.merge(fator_contribuinte, how='inner', on = ['codigo_ocorrencia3']) 'fator_nome','fator_area'"
   ]
  },
  {
   "cell_type": "code",
   "execution_count": 6,
   "id": "253990c7",
   "metadata": {},
   "outputs": [],
   "source": [
    "umdf = nprin.loc[:,['codigo_ocorrencia','ocorrencia_classificacao', 'ocorrencia_uf' ,'ocorrencia_aerodromo', 'ocorrencia_dia' ,'ocorrencia_hora','ocorrencia_tipo',\n",
    "                    'aeronave_operador_categoria','aeronave_tipo_veiculo']]"
   ]
  },
  {
   "cell_type": "code",
   "execution_count": 7,
   "id": "24e55e01",
   "metadata": {},
   "outputs": [],
   "source": [
    "umdf.head()\n",
    "umdf.to_csv('./data/ocorrencias_abril2010_jun2020.csv')\n"
   ]
  },
  {
   "cell_type": "markdown",
   "id": "f7bdb3e2",
   "metadata": {},
   "source": [
    "### Limpeza"
   ]
  },
  {
   "cell_type": "code",
   "execution_count": 3,
   "id": "e954f3a9",
   "metadata": {},
   "outputs": [],
   "source": [
    "ocorrencia = pd.read_csv('./data/ocorrencias_abril2010_jun2020.csv', parse_dates=['ocorrencia_dia'], index_col='Unnamed: 0')"
   ]
  },
  {
   "cell_type": "code",
   "execution_count": 61,
   "id": "c109d1c4",
   "metadata": {},
   "outputs": [
    {
     "data": {
      "text/plain": [
       "array(['APLICAÇÃO DE COMANDOS', 'JULGAMENTO DE PILOTAGEM',\n",
       "       'PLANEJAMENTO DE VOO', 'PROCESSO DECISÓRIO', 'INDISCIPLINA DE VOO',\n",
       "       'MANUTENÇÃO DA AERONAVE', 'PLANEJAMENTO GERENCIAL',\n",
       "       'SUPERVISÃO GERENCIAL', 'CAPACITAÇÃO E TREINAMENTO',\n",
       "       'CULTURA ORGANIZACIONAL', 'ESQUECIMENTO DO PILOTO', 'INSTRUÇÃO',\n",
       "       'MEMÓRIA', 'MOTIVAÇÃO', 'ORGANIZAÇÃO DO TRABALHO',\n",
       "       'POUCA EXPERIÊNCIA DO PILOTO', 'PROCESSOS ORGANIZACIONAIS',\n",
       "       'SISTEMAS DE APOIO', 'PESSOAL DE APOIO', 'ATITUDE',\n",
       "       'CONDIÇÕES METEOROLÓGICAS ADVERSAS', 'COORDENAÇÃO DE CABINE',\n",
       "       'CULTURA DO GRUPO DE TRABALHO', 'PERCEPÇÃO', 'ANSIEDADE',\n",
       "       'ATENÇÃO', 'FABRICAÇÃO', 'INFRAESTRUTURA AEROPORTUÁRIA', 'FADIGA',\n",
       "       'INDÍCIOS DE ESTRESSE', 'USO DE MEDICAMENTO', 'DIETA INADEQUADA',\n",
       "       'INSÔNIA', 'DESVIO DE NAVEGAÇÃO', 'OUTRO FATOR',\n",
       "       'INFLUÊNCIA DO MEIO AMBIENTE', 'RELAÇÕES INTERPESSOAIS',\n",
       "       'ESTADO EMOCIONAL', 'COMUNICAÇÃO', 'DINÂMICA DE EQUIPE',\n",
       "       'CONDIÇÕES FÍSICAS DO TRABALHO', 'ILUSÕES VISUAIS',\n",
       "       'CARACTERÍSTICAS DA TAREFA', 'PROJETO', 'CLIMA ORGANIZACIONAL',\n",
       "       'DESORIENTAÇÃO', 'LIDERANÇA', 'SOBRECARGA DE TAREFAS',\n",
       "       'FRASEOLOGIA DA TRIPULAÇÃO', 'INFLUÊNCIAS EXTERNAS', 'OBESIDADE',\n",
       "       'PUBLICAÇÕES (ATS)', 'INCONSCIÊNCIA',\n",
       "       'CONHECIMENTO DE NORMAS (ATS)', 'FRASEOLOGIA DO ÓRGÃO ATS',\n",
       "       'EQUIPAMENTO - CARACTERÍSTICAS ERGONÔMICAS', 'ENFERMIDADE',\n",
       "       'COORDENAÇÃO DE TRÁFEGO (ATS)', 'ÁLCOOL',\n",
       "       'PLANEJAMENTO DE TRÁFEGO (ATS)', 'SUPERVISÃO (ATS)',\n",
       "       'MANUSEIO DO MATERIAL', 'SUBSTITUIÇÃO NA POSIÇÃO (ATS)',\n",
       "       'EQUIPAMENTO DE APOIO (ATS)', 'PRESENÇA DE AVE',\n",
       "       'VESTIMENTA INADEQUADA', 'USO ILÍCITO DE DROGAS',\n",
       "       'EMPREGO DE MEIOS (ATS)', 'HABILIDADE DE CONTROLE (ATS)',\n",
       "       'LIMITE DE AUTORIZAÇÃO', 'PRESENÇA DE FAUNA (NÃO AVE)',\n",
       "       'INTOXICAÇÃO ALIMENTAR', 'DOR'], dtype=object)"
      ]
     },
     "execution_count": 61,
     "metadata": {},
     "output_type": "execute_result"
    }
   ],
   "source": [
    "ocorrencia.fator_nome.unique()"
   ]
  },
  {
   "cell_type": "code",
   "execution_count": 4,
   "id": "188f1df5",
   "metadata": {},
   "outputs": [
    {
     "data": {
      "text/html": [
       "<div>\n",
       "<style scoped>\n",
       "    .dataframe tbody tr th:only-of-type {\n",
       "        vertical-align: middle;\n",
       "    }\n",
       "\n",
       "    .dataframe tbody tr th {\n",
       "        vertical-align: top;\n",
       "    }\n",
       "\n",
       "    .dataframe thead th {\n",
       "        text-align: right;\n",
       "    }\n",
       "</style>\n",
       "<table border=\"1\" class=\"dataframe\">\n",
       "  <thead>\n",
       "    <tr style=\"text-align: right;\">\n",
       "      <th></th>\n",
       "      <th>codigo_ocorrencia</th>\n",
       "      <th>ocorrencia_classificacao</th>\n",
       "      <th>ocorrencia_uf</th>\n",
       "      <th>ocorrencia_aerodromo</th>\n",
       "      <th>ocorrencia_dia</th>\n",
       "      <th>ocorrencia_hora</th>\n",
       "      <th>ocorrencia_tipo</th>\n",
       "      <th>aeronave_operador_categoria</th>\n",
       "      <th>aeronave_tipo_veiculo</th>\n",
       "      <th>fator_nome</th>\n",
       "      <th>fator_area</th>\n",
       "    </tr>\n",
       "  </thead>\n",
       "  <tbody>\n",
       "    <tr>\n",
       "      <th>0</th>\n",
       "      <td>39527</td>\n",
       "      <td>ACIDENTE</td>\n",
       "      <td>MT</td>\n",
       "      <td>****</td>\n",
       "      <td>2010-04-01</td>\n",
       "      <td>17:30:00</td>\n",
       "      <td>OPERAÇÃO A BAIXA ALTITUDE</td>\n",
       "      <td>***</td>\n",
       "      <td>AVIÃO</td>\n",
       "      <td>APLICAÇÃO DE COMANDOS</td>\n",
       "      <td>FATOR OPERACIONAL</td>\n",
       "    </tr>\n",
       "    <tr>\n",
       "      <th>1</th>\n",
       "      <td>39527</td>\n",
       "      <td>ACIDENTE</td>\n",
       "      <td>MT</td>\n",
       "      <td>****</td>\n",
       "      <td>2010-04-01</td>\n",
       "      <td>17:30:00</td>\n",
       "      <td>OPERAÇÃO A BAIXA ALTITUDE</td>\n",
       "      <td>***</td>\n",
       "      <td>AVIÃO</td>\n",
       "      <td>JULGAMENTO DE PILOTAGEM</td>\n",
       "      <td>FATOR OPERACIONAL</td>\n",
       "    </tr>\n",
       "    <tr>\n",
       "      <th>2</th>\n",
       "      <td>39527</td>\n",
       "      <td>ACIDENTE</td>\n",
       "      <td>MT</td>\n",
       "      <td>****</td>\n",
       "      <td>2010-04-01</td>\n",
       "      <td>17:30:00</td>\n",
       "      <td>OPERAÇÃO A BAIXA ALTITUDE</td>\n",
       "      <td>***</td>\n",
       "      <td>AVIÃO</td>\n",
       "      <td>PLANEJAMENTO DE VOO</td>\n",
       "      <td>FATOR OPERACIONAL</td>\n",
       "    </tr>\n",
       "    <tr>\n",
       "      <th>3</th>\n",
       "      <td>39527</td>\n",
       "      <td>ACIDENTE</td>\n",
       "      <td>MT</td>\n",
       "      <td>****</td>\n",
       "      <td>2010-04-01</td>\n",
       "      <td>17:30:00</td>\n",
       "      <td>OPERAÇÃO A BAIXA ALTITUDE</td>\n",
       "      <td>***</td>\n",
       "      <td>AVIÃO</td>\n",
       "      <td>PROCESSO DECISÓRIO</td>\n",
       "      <td>FATOR HUMANO</td>\n",
       "    </tr>\n",
       "    <tr>\n",
       "      <th>4</th>\n",
       "      <td>39707</td>\n",
       "      <td>INCIDENTE GRAVE</td>\n",
       "      <td>AM</td>\n",
       "      <td>****</td>\n",
       "      <td>2010-09-01</td>\n",
       "      <td>12:30:00</td>\n",
       "      <td>COM TREM DE POUSO</td>\n",
       "      <td>***</td>\n",
       "      <td>AVIÃO</td>\n",
       "      <td>INDISCIPLINA DE VOO</td>\n",
       "      <td>FATOR OPERACIONAL</td>\n",
       "    </tr>\n",
       "  </tbody>\n",
       "</table>\n",
       "</div>"
      ],
      "text/plain": [
       "   codigo_ocorrencia ocorrencia_classificacao ocorrencia_uf  \\\n",
       "0              39527                 ACIDENTE            MT   \n",
       "1              39527                 ACIDENTE            MT   \n",
       "2              39527                 ACIDENTE            MT   \n",
       "3              39527                 ACIDENTE            MT   \n",
       "4              39707          INCIDENTE GRAVE            AM   \n",
       "\n",
       "  ocorrencia_aerodromo ocorrencia_dia ocorrencia_hora  \\\n",
       "0                 ****     2010-04-01        17:30:00   \n",
       "1                 ****     2010-04-01        17:30:00   \n",
       "2                 ****     2010-04-01        17:30:00   \n",
       "3                 ****     2010-04-01        17:30:00   \n",
       "4                 ****     2010-09-01        12:30:00   \n",
       "\n",
       "             ocorrencia_tipo aeronave_operador_categoria  \\\n",
       "0  OPERAÇÃO A BAIXA ALTITUDE                         ***   \n",
       "1  OPERAÇÃO A BAIXA ALTITUDE                         ***   \n",
       "2  OPERAÇÃO A BAIXA ALTITUDE                         ***   \n",
       "3  OPERAÇÃO A BAIXA ALTITUDE                         ***   \n",
       "4          COM TREM DE POUSO                         ***   \n",
       "\n",
       "  aeronave_tipo_veiculo               fator_nome         fator_area  \n",
       "0                 AVIÃO    APLICAÇÃO DE COMANDOS  FATOR OPERACIONAL  \n",
       "1                 AVIÃO  JULGAMENTO DE PILOTAGEM  FATOR OPERACIONAL  \n",
       "2                 AVIÃO      PLANEJAMENTO DE VOO  FATOR OPERACIONAL  \n",
       "3                 AVIÃO       PROCESSO DECISÓRIO       FATOR HUMANO  \n",
       "4                 AVIÃO      INDISCIPLINA DE VOO  FATOR OPERACIONAL  "
      ]
     },
     "execution_count": 4,
     "metadata": {},
     "output_type": "execute_result"
    }
   ],
   "source": [
    "# da linha 1 a 3 localiza os indices \n",
    "len(ocorrencia)\n",
    "ocorrencia.head()"
   ]
  },
  {
   "cell_type": "code",
   "execution_count": 217,
   "id": "cdf21939",
   "metadata": {},
   "outputs": [
    {
     "data": {
      "text/plain": [
       "codigo_ocorrencia  fator_area         fator_area       \n",
       "39115              FATOR HUMANO       FATOR HUMANO         2\n",
       "                   FATOR OPERACIONAL  FATOR OPERACIONAL    4\n",
       "39156              FATOR OPERACIONAL  FATOR OPERACIONAL    3\n",
       "39235              FATOR OPERACIONAL  FATOR OPERACIONAL    2\n",
       "39275              FATOR HUMANO       FATOR HUMANO         7\n",
       "                                                          ..\n",
       "79671              FATOR OPERACIONAL  FATOR OPERACIONAL    1\n",
       "79692              FATOR HUMANO       FATOR HUMANO         3\n",
       "                   FATOR OPERACIONAL  FATOR OPERACIONAL    2\n",
       "79713              FATOR HUMANO       FATOR HUMANO         4\n",
       "                   FATOR OPERACIONAL  FATOR OPERACIONAL    3\n",
       "Name: fator_area, Length: 1682, dtype: int64"
      ]
     },
     "execution_count": 217,
     "metadata": {},
     "output_type": "execute_result"
    }
   ],
   "source": [
    "nunico = ocorrencia.groupby(['codigo_ocorrencia','fator_area'])['fator_area'].value_counts()#.sort_values(by='ocorrencia_uf',ascending=True)\n",
    "nunico#.reset_index()\n",
    "# nunico.plot.barh(y='ocorrencia_uf')"
   ]
  },
  {
   "cell_type": "code",
   "execution_count": 200,
   "id": "282a7e30",
   "metadata": {},
   "outputs": [
    {
     "data": {
      "text/plain": [
       "<AxesSubplot:ylabel='fator_area'>"
      ]
     },
     "execution_count": 200,
     "metadata": {},
     "output_type": "execute_result"
    },
    {
     "data": {
      "image/png": "[encoded data removed]",
      "text/plain": [
       "<Figure size 432x288 with 1 Axes>"
      ]
     },
     "metadata": {
      "needs_background": "light"
     },
     "output_type": "display_data"
    }
   ],
   "source": [
    "# Trazer ocorrencias unicas de cidade estado\n",
    "nd = ocorrencia.groupby('fator_area').count().sort_values(by='ocorrencia_uf',ascending=True)\n",
    "nd.plot.barh(y='ocorrencia_uf')"
   ]
  },
  {
   "cell_type": "code",
   "execution_count": 122,
   "id": "1aad87f5",
   "metadata": {},
   "outputs": [
    {
     "data": {
      "text/plain": [
       "<AxesSubplot:ylabel='fator_nome'>"
      ]
     },
     "execution_count": 122,
     "metadata": {},
     "output_type": "execute_result"
    },
    {
     "data": {
      "image/png": "[encoded data removed]",
      "text/plain": [
       "<Figure size 432x288 with 1 Axes>"
      ]
     },
     "metadata": {
      "needs_background": "light"
     },
     "output_type": "display_data"
    }
   ],
   "source": [
    "pp = ocorrencia.loc[ocorrencia.fator_area == 'FATOR OPERACIONAL']#.sort_values(by='fator_area')#,ascending=False)\n",
    "gby = pp.groupby('fator_nome').count().sort_values(by=['codigo_ocorrencia'],ascending=True)\n",
    "gby10 = gby[gby.codigo_ocorrencia > 10]\n",
    "gby10\n",
    "gby10.plot.barh(y='ocorrencia_uf')"
   ]
  },
  {
   "cell_type": "code",
   "execution_count": 123,
   "id": "b7cc52fe",
   "metadata": {},
   "outputs": [
    {
     "data": {
      "text/plain": [
       "<AxesSubplot:ylabel='fator_nome'>"
      ]
     },
     "execution_count": 123,
     "metadata": {},
     "output_type": "execute_result"
    },
    {
     "data": {
      "image/png": "[encoded data removed]",
      "text/plain": [
       "<Figure size 432x288 with 1 Axes>"
      ]
     },
     "metadata": {
      "needs_background": "light"
     },
     "output_type": "display_data"
    }
   ],
   "source": [
    "pp = ocorrencia.loc[ocorrencia.fator_area == 'FATOR HUMANO']#.sort_values(by='fator_area')#,ascending=False)\n",
    "gby = pp.groupby('fator_nome').count().sort_values(by=['codigo_ocorrencia'],ascending=True)\n",
    "gby10 = gby[gby.codigo_ocorrencia > 10]\n",
    "gby10\n",
    "gby10.plot.barh(y='ocorrencia_uf')"
   ]
  },
  {
   "cell_type": "markdown",
   "id": "198621ef",
   "metadata": {},
   "source": [
    "Quais fatores mais influenciaram para o acidente acontecer? netes 10 anos dos acidentes registrados."
   ]
  },
  {
   "cell_type": "code",
   "execution_count": 114,
   "id": "2091f9f2",
   "metadata": {},
   "outputs": [
    {
     "data": {
      "text/plain": [
       "<AxesSubplot:ylabel='fator_nome'>"
      ]
     },
     "execution_count": 114,
     "metadata": {},
     "output_type": "execute_result"
    },
    {
     "data": {
      "image/png": "[encoded data removed]",
      "text/plain": [
       "<Figure size 432x288 with 1 Axes>"
      ]
     },
     "metadata": {
      "needs_background": "light"
     },
     "output_type": "display_data"
    }
   ],
   "source": [
    "# esta ok.\n",
    "pp = ocorrencia.groupby(['fator_nome']).count().sort_values(by=['fator_area','fator_nome'],ascending=True)\n",
    "pp[pp.fator_area > 10].plot.barh(y='ocorrencia_uf')"
   ]
  },
  {
   "cell_type": "markdown",
   "id": "6f348986",
   "metadata": {},
   "source": [
    "#### Alterar os dados de uma coluna"
   ]
  },
  {
   "cell_type": "markdown",
   "id": "5fc6de1f",
   "metadata": {},
   "source": [
    "### Total de Incidentes e Acidentes"
   ]
  },
  {
   "cell_type": "code",
   "execution_count": 205,
   "id": "474a1002",
   "metadata": {},
   "outputs": [
    {
     "data": {
      "text/plain": [
       "<AxesSubplot:>"
      ]
     },
     "execution_count": 205,
     "metadata": {},
     "output_type": "execute_result"
    },
    {
     "data": {
      "image/png": "[encoded data removed]",
      "text/plain": [
       "<Figure size 432x288 with 1 Axes>"
      ]
     },
     "metadata": {
      "needs_background": "light"
     },
     "output_type": "display_data"
    }
   ],
   "source": [
    "ocorrencia['ocorrencia_classificacao'].value_counts().div(len(ocorrencia)).mul(100).sort_index().plot.bar()\n",
    "# ocorrencia['ocorrencia_classificacao'].value_counts().div(len(ocorrencia)).mul(100).sort_index()"
   ]
  },
  {
   "cell_type": "code",
   "execution_count": 206,
   "id": "79aedff0",
   "metadata": {},
   "outputs": [
    {
     "data": {
      "text/html": [
       "<div>\n",
       "<style scoped>\n",
       "    .dataframe tbody tr th:only-of-type {\n",
       "        vertical-align: middle;\n",
       "    }\n",
       "\n",
       "    .dataframe tbody tr th {\n",
       "        vertical-align: top;\n",
       "    }\n",
       "\n",
       "    .dataframe thead th {\n",
       "        text-align: right;\n",
       "    }\n",
       "</style>\n",
       "<table border=\"1\" class=\"dataframe\">\n",
       "  <thead>\n",
       "    <tr style=\"text-align: right;\">\n",
       "      <th></th>\n",
       "      <th>aeronave_tipo_veiculo</th>\n",
       "      <th>ocorrencia_classificacao</th>\n",
       "      <th>codigo_ocorrencia</th>\n",
       "    </tr>\n",
       "  </thead>\n",
       "  <tbody>\n",
       "    <tr>\n",
       "      <th>2</th>\n",
       "      <td>AVIÃO</td>\n",
       "      <td>ACIDENTE</td>\n",
       "      <td>76.841010</td>\n",
       "    </tr>\n",
       "    <tr>\n",
       "      <th>3</th>\n",
       "      <td>AVIÃO</td>\n",
       "      <td>INCIDENTE</td>\n",
       "      <td>1.144939</td>\n",
       "    </tr>\n",
       "    <tr>\n",
       "      <th>4</th>\n",
       "      <td>AVIÃO</td>\n",
       "      <td>INCIDENTE GRAVE</td>\n",
       "      <td>22.014052</td>\n",
       "    </tr>\n",
       "    <tr>\n",
       "      <th>5</th>\n",
       "      <td>HELICÓPTERO</td>\n",
       "      <td>ACIDENTE</td>\n",
       "      <td>86.956522</td>\n",
       "    </tr>\n",
       "    <tr>\n",
       "      <th>6</th>\n",
       "      <td>HELICÓPTERO</td>\n",
       "      <td>INCIDENTE</td>\n",
       "      <td>0.845411</td>\n",
       "    </tr>\n",
       "    <tr>\n",
       "      <th>7</th>\n",
       "      <td>HELICÓPTERO</td>\n",
       "      <td>INCIDENTE GRAVE</td>\n",
       "      <td>12.198068</td>\n",
       "    </tr>\n",
       "  </tbody>\n",
       "</table>\n",
       "</div>"
      ],
      "text/plain": [
       "  aeronave_tipo_veiculo ocorrencia_classificacao  codigo_ocorrencia\n",
       "2                 AVIÃO                 ACIDENTE          76.841010\n",
       "3                 AVIÃO                INCIDENTE           1.144939\n",
       "4                 AVIÃO          INCIDENTE GRAVE          22.014052\n",
       "5           HELICÓPTERO                 ACIDENTE          86.956522\n",
       "6           HELICÓPTERO                INCIDENTE           0.845411\n",
       "7           HELICÓPTERO          INCIDENTE GRAVE          12.198068"
      ]
     },
     "execution_count": 206,
     "metadata": {},
     "output_type": "execute_result"
    }
   ],
   "source": [
    "cda = ocorrencia.groupby(['aeronave_tipo_veiculo','ocorrencia_classificacao']).count().sort_values(by='aeronave_tipo_veiculo',ascending=True)['codigo_ocorrencia']\n",
    "total = ocorrencia.groupby(['aeronave_tipo_veiculo']).count().sort_values(by='aeronave_tipo_veiculo',ascending=True)['codigo_ocorrencia']\n",
    "cda = cda.div(total).mul(100).reset_index()\n",
    "cda.loc[(cda.aeronave_tipo_veiculo == 'AVIÃO') | (cda.aeronave_tipo_veiculo == 'HELICÓPTERO')]"
   ]
  },
  {
   "cell_type": "markdown",
   "id": "d0a5c8da",
   "metadata": {},
   "source": [
    " ### Qual o estado que contem mais ocorrencia_classificacao"
   ]
  },
  {
   "cell_type": "markdown",
   "id": "a444d255",
   "metadata": {},
   "source": [
    "### Ocorrencia por estado\n",
    "14,8% acidentes relatados são do estado de são paulo  "
   ]
  },
  {
   "cell_type": "code",
   "execution_count": 163,
   "id": "131e44a7",
   "metadata": {},
   "outputs": [
    {
     "data": {
      "text/plain": [
       "ocorrencia_uf  ocorrencia_classificacao\n",
       "MG             INCIDENTE GRAVE              1.038422\n",
       "BA             INCIDENTE GRAVE              1.059190\n",
       "TO             ACIDENTE                     1.059190\n",
       "PE             INCIDENTE GRAVE              1.163032\n",
       "SE             ACIDENTE                     1.163032\n",
       "CE             ACIDENTE                     1.266874\n",
       "PA             INCIDENTE GRAVE              1.349948\n",
       "RS             INCIDENTE GRAVE              1.349948\n",
       "GO             INCIDENTE GRAVE              1.391485\n",
       "RJ             INCIDENTE GRAVE              1.433022\n",
       "AM             INCIDENTE GRAVE              1.453790\n",
       "RR             ACIDENTE                     1.578401\n",
       "DF             INCIDENTE GRAVE              1.723780\n",
       "MA             ACIDENTE                     1.827622\n",
       "PR             INCIDENTE GRAVE              1.910696\n",
       "PE             ACIDENTE                     2.118380\n",
       "MS             ACIDENTE                     2.201454\n",
       "SC             ACIDENTE                     2.512980\n",
       "SP             INCIDENTE GRAVE              2.720665\n",
       "RJ             ACIDENTE                     3.426791\n",
       "MG             ACIDENTE                     3.759086\n",
       "AM             ACIDENTE                     4.070613\n",
       "GO             ACIDENTE                     4.693666\n",
       "BA             ACIDENTE                     4.984424\n",
       "PA             ACIDENTE                     5.732087\n",
       "MT             ACIDENTE                     5.752856\n",
       "PR             ACIDENTE                     6.147456\n",
       "RS             ACIDENTE                     8.535826\n",
       "SP             ACIDENTE                    14.870197\n",
       "Name: codigo_ocorrencia, dtype: float64"
      ]
     },
     "execution_count": 163,
     "metadata": {},
     "output_type": "execute_result"
    }
   ],
   "source": [
    "ge = ocorrencia.groupby(['ocorrencia_uf','ocorrencia_classificacao']).count().sort_values(by='codigo_ocorrencia',ascending=True)/len(ocorrencia)\n",
    "# ge['codigo_ocorrencia'][ge.codigo_ocorrencia> 0.01].mul(100).plot.barh()\n",
    "ge['codigo_ocorrencia'][ge.codigo_ocorrencia> 0.01].mul(100)\n",
    "# ge.mul(100).plot.barh()"
   ]
  },
  {
   "cell_type": "markdown",
   "id": "8125c32c",
   "metadata": {},
   "source": [
    "### Por estado do maior numero de incidentes para o menor"
   ]
  },
  {
   "cell_type": "markdown",
   "id": "dd693903",
   "metadata": {},
   "source": [
    "### Ocorrencia por Estado por tipo de classificação"
   ]
  },
  {
   "cell_type": "code",
   "execution_count": 134,
   "id": "eff1d9cd",
   "metadata": {},
   "outputs": [
    {
     "data": {
      "text/plain": [
       "ocorrencia_uf  ocorrencia_classificacao\n",
       "***            ACIDENTE                      3\n",
       "AC             ACIDENTE                     16\n",
       "               INCIDENTE GRAVE              18\n",
       "AL             ACIDENTE                     27\n",
       "               INCIDENTE GRAVE              11\n",
       "                                          ... \n",
       "SE             INCIDENTE GRAVE               1\n",
       "SP             ACIDENTE                    716\n",
       "               INCIDENTE GRAVE             131\n",
       "TO             ACIDENTE                     51\n",
       "               INCIDENTE GRAVE              11\n",
       "Name: ocorrencia_classificacao, Length: 65, dtype: int64"
      ]
     },
     "execution_count": 134,
     "metadata": {},
     "output_type": "execute_result"
    }
   ],
   "source": [
    "group_by_por_estado = ocorrencia.groupby(['ocorrencia_uf','ocorrencia_classificacao'])['ocorrencia_classificacao'].count()\n",
    "group_by_por_estado"
   ]
  },
  {
   "cell_type": "code",
   "execution_count": null,
   "id": "788c87c8",
   "metadata": {},
   "outputs": [],
   "source": []
  },
  {
   "cell_type": "code",
   "execution_count": null,
   "id": "55573258",
   "metadata": {},
   "outputs": [],
   "source": []
  }
 ],
 "metadata": {
  "interpreter": {
   "hash": "2f566aa225148740d66d7bffa8fbb341b94ef6f9f805c9c9e52b474a3635c9a1"
  },
  "kernelspec": {
   "display_name": "Python 3",
   "language": "python",
   "name": "python3"
  },
  "language_info": {
   "codemirror_mode": {
    "name": "ipython",
    "version": 3
   },
   "file_extension": ".py",
   "mimetype": "text/x-python",
   "name": "python",
   "nbconvert_exporter": "python",
   "pygments_lexer": "ipython3",
   "version": "3.8.10"
  }
 },
 "nbformat": 4,
 "nbformat_minor": 5
}
