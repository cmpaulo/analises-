{
 "cells": [
  {
   "cell_type": "markdown",
   "id": "19b8eb64",
   "metadata": {},
   "source": [
    "## CENIPA"
   ]
  },
  {
   "cell_type": "markdown",
   "id": "7c69c743",
   "metadata": {},
   "source": [
    "## Importando bibliotecas"
   ]
  },
  {
   "cell_type": "code",
   "execution_count": 1,
   "id": "e375dd64",
   "metadata": {},
   "outputs": [],
   "source": [
    "import pandas as pd\n",
    "import numpy as np\n",
    "import matplotlib.pyplot as plt"
   ]
  },
  {
   "cell_type": "markdown",
   "id": "f49d82ff",
   "metadata": {},
   "source": [
    "### Lendo o dataset"
   ]
  },
  {
   "cell_type": "markdown",
   "id": "38bbcfb4",
   "metadata": {},
   "source": [
    "ocorrencia.csv colunas\n",
    "codigo_ocorrencia\n",
    "codigo_ocorrencia1\n",
    "codigo_ocorrencia2\n",
    "codigo_ocorrencia3\t\n",
    "ocorrencia_classificacao\n",
    "ocorrencia_uf\n",
    "ocorrencia_aerodromo\n",
    "ocorrencia_dia\n",
    "ocorrencia_hora\n",
    "\n",
    "\n",
    "ocorrencia_tipo.csv colunas\n",
    "codigo_ocorrencia1\n",
    "ocorrencia_tipo\n",
    "\n",
    "aeronave.csv \n",
    "codigo_ocorrencia2\n",
    "aeronave_operador_categoria\n",
    "aeronave_tipo_veiculo\n",
    "\n",
    "fator_contribuinte.csv\n",
    "codigo_ocorrencia3\n",
    "fator_nome\n",
    "fator_area\n"
   ]
  },
  {
   "cell_type": "code",
   "execution_count": 109,
   "id": "496213f9",
   "metadata": {},
   "outputs": [],
   "source": [
    "# 1-\n",
    "principal = pd.read_csv(\"ocorrencia.csv\", sep=';', parse_dates=['ocorrencia_dia'],skip_blank_lines=True)\n",
    "# estas são as tabelas aeronave.csv  fator_contribuinte.csv  ocorrencia.csv  ocorrencia_tipo.csv\n",
    "ocorrencia_tipo = pd.read_csv(\"ocorrencia_tipo.csv\", sep=';', skip_blank_lines=True)\n",
    "\n",
    "aeronave = pd.read_csv(\"aeronave.csv\", sep=';', skip_blank_lines=True)\n",
    "\n",
    "fator_contribuinte = pd.read_csv(\"fator_contribuinte.csv\", sep=';', skip_blank_lines=True)\n"
   ]
  },
  {
   "cell_type": "code",
   "execution_count": 125,
   "id": "5713ad3a",
   "metadata": {},
   "outputs": [],
   "source": [
    "novoprincipal = principal.merge(ocorrencia_tipo,how='inner',on=['codigo_ocorrencia1'])\n",
    "nprin = novoprincipal.merge(aeronave, how='inner', on = ['codigo_ocorrencia2'])\n",
    "zprin = nprin.merge(fator_contribuinte, how='inner', on = ['codigo_ocorrencia3'])"
   ]
  },
  {
   "cell_type": "code",
   "execution_count": 126,
   "id": "253990c7",
   "metadata": {},
   "outputs": [],
   "source": [
    "umdf = zprin.loc[:,['codigo_ocorrencia','ocorrencia_classificacao', 'ocorrencia_uf' ,'ocorrencia_aerodromo', 'ocorrencia_dia' ,'ocorrencia_hora','ocorrencia_tipo',\n",
    "                    'aeronave_operador_categoria','aeronave_tipo_veiculo','fator_nome','fator_area']]"
   ]
  },
  {
   "cell_type": "code",
   "execution_count": 128,
   "id": "24e55e01",
   "metadata": {},
   "outputs": [],
   "source": [
    "umdf.head()\n",
    "umdf.to_csv('ocorrencias_abril2010_jun2020.csv')\n"
   ]
  },
  {
   "cell_type": "markdown",
   "id": "f7bdb3e2",
   "metadata": {},
   "source": [
    "### Limpeza"
   ]
  },
  {
   "cell_type": "code",
   "execution_count": 129,
   "id": "e954f3a9",
   "metadata": {},
   "outputs": [],
   "source": [
    "ocorrencia = pd.read_csv('ocorrencias_abril2010_jun2020.csv', parse_dates=['ocorrencia_dia'], index_col='Unnamed: 0')"
   ]
  },
  {
   "cell_type": "code",
   "execution_count": 137,
   "id": "188f1df5",
   "metadata": {},
   "outputs": [
    {
     "data": {
      "text/html": [
       "<div>\n",
       "<style scoped>\n",
       "    .dataframe tbody tr th:only-of-type {\n",
       "        vertical-align: middle;\n",
       "    }\n",
       "\n",
       "    .dataframe tbody tr th {\n",
       "        vertical-align: top;\n",
       "    }\n",
       "\n",
       "    .dataframe thead th {\n",
       "        text-align: right;\n",
       "    }\n",
       "</style>\n",
       "<table border=\"1\" class=\"dataframe\">\n",
       "  <thead>\n",
       "    <tr style=\"text-align: right;\">\n",
       "      <th></th>\n",
       "      <th>codigo_ocorrencia</th>\n",
       "      <th>ocorrencia_classificacao</th>\n",
       "      <th>ocorrencia_uf</th>\n",
       "      <th>ocorrencia_aerodromo</th>\n",
       "      <th>ocorrencia_dia</th>\n",
       "      <th>ocorrencia_hora</th>\n",
       "      <th>ocorrencia_tipo</th>\n",
       "      <th>aeronave_operador_categoria</th>\n",
       "      <th>aeronave_tipo_veiculo</th>\n",
       "      <th>fator_nome</th>\n",
       "      <th>fator_area</th>\n",
       "    </tr>\n",
       "  </thead>\n",
       "  <tbody>\n",
       "    <tr>\n",
       "      <th>0</th>\n",
       "      <td>39527</td>\n",
       "      <td>ACIDENTE</td>\n",
       "      <td>MT</td>\n",
       "      <td>****</td>\n",
       "      <td>2010-04-01</td>\n",
       "      <td>17:30:00</td>\n",
       "      <td>OPERAÇÃO A BAIXA ALTITUDE</td>\n",
       "      <td>***</td>\n",
       "      <td>AVIÃO</td>\n",
       "      <td>APLICAÇÃO DE COMANDOS</td>\n",
       "      <td>FATOR OPERACIONAL</td>\n",
       "    </tr>\n",
       "    <tr>\n",
       "      <th>1</th>\n",
       "      <td>39527</td>\n",
       "      <td>ACIDENTE</td>\n",
       "      <td>MT</td>\n",
       "      <td>****</td>\n",
       "      <td>2010-04-01</td>\n",
       "      <td>17:30:00</td>\n",
       "      <td>OPERAÇÃO A BAIXA ALTITUDE</td>\n",
       "      <td>***</td>\n",
       "      <td>AVIÃO</td>\n",
       "      <td>JULGAMENTO DE PILOTAGEM</td>\n",
       "      <td>FATOR OPERACIONAL</td>\n",
       "    </tr>\n",
       "    <tr>\n",
       "      <th>2</th>\n",
       "      <td>39527</td>\n",
       "      <td>ACIDENTE</td>\n",
       "      <td>MT</td>\n",
       "      <td>****</td>\n",
       "      <td>2010-04-01</td>\n",
       "      <td>17:30:00</td>\n",
       "      <td>OPERAÇÃO A BAIXA ALTITUDE</td>\n",
       "      <td>***</td>\n",
       "      <td>AVIÃO</td>\n",
       "      <td>PLANEJAMENTO DE VOO</td>\n",
       "      <td>FATOR OPERACIONAL</td>\n",
       "    </tr>\n",
       "    <tr>\n",
       "      <th>3</th>\n",
       "      <td>39527</td>\n",
       "      <td>ACIDENTE</td>\n",
       "      <td>MT</td>\n",
       "      <td>****</td>\n",
       "      <td>2010-04-01</td>\n",
       "      <td>17:30:00</td>\n",
       "      <td>OPERAÇÃO A BAIXA ALTITUDE</td>\n",
       "      <td>***</td>\n",
       "      <td>AVIÃO</td>\n",
       "      <td>PROCESSO DECISÓRIO</td>\n",
       "      <td>FATOR HUMANO</td>\n",
       "    </tr>\n",
       "    <tr>\n",
       "      <th>4</th>\n",
       "      <td>39707</td>\n",
       "      <td>INCIDENTE GRAVE</td>\n",
       "      <td>AM</td>\n",
       "      <td>****</td>\n",
       "      <td>2010-09-01</td>\n",
       "      <td>12:30:00</td>\n",
       "      <td>COM TREM DE POUSO</td>\n",
       "      <td>***</td>\n",
       "      <td>AVIÃO</td>\n",
       "      <td>INDISCIPLINA DE VOO</td>\n",
       "      <td>FATOR OPERACIONAL</td>\n",
       "    </tr>\n",
       "  </tbody>\n",
       "</table>\n",
       "</div>"
      ],
      "text/plain": [
       "   codigo_ocorrencia ocorrencia_classificacao ocorrencia_uf  \\\n",
       "0              39527                 ACIDENTE            MT   \n",
       "1              39527                 ACIDENTE            MT   \n",
       "2              39527                 ACIDENTE            MT   \n",
       "3              39527                 ACIDENTE            MT   \n",
       "4              39707          INCIDENTE GRAVE            AM   \n",
       "\n",
       "  ocorrencia_aerodromo ocorrencia_dia ocorrencia_hora  \\\n",
       "0                 ****     2010-04-01        17:30:00   \n",
       "1                 ****     2010-04-01        17:30:00   \n",
       "2                 ****     2010-04-01        17:30:00   \n",
       "3                 ****     2010-04-01        17:30:00   \n",
       "4                 ****     2010-09-01        12:30:00   \n",
       "\n",
       "             ocorrencia_tipo aeronave_operador_categoria  \\\n",
       "0  OPERAÇÃO A BAIXA ALTITUDE                         ***   \n",
       "1  OPERAÇÃO A BAIXA ALTITUDE                         ***   \n",
       "2  OPERAÇÃO A BAIXA ALTITUDE                         ***   \n",
       "3  OPERAÇÃO A BAIXA ALTITUDE                         ***   \n",
       "4          COM TREM DE POUSO                         ***   \n",
       "\n",
       "  aeronave_tipo_veiculo               fator_nome         fator_area  \n",
       "0                 AVIÃO    APLICAÇÃO DE COMANDOS  FATOR OPERACIONAL  \n",
       "1                 AVIÃO  JULGAMENTO DE PILOTAGEM  FATOR OPERACIONAL  \n",
       "2                 AVIÃO      PLANEJAMENTO DE VOO  FATOR OPERACIONAL  \n",
       "3                 AVIÃO       PROCESSO DECISÓRIO       FATOR HUMANO  \n",
       "4                 AVIÃO      INDISCIPLINA DE VOO  FATOR OPERACIONAL  "
      ]
     },
     "execution_count": 137,
     "metadata": {},
     "output_type": "execute_result"
    }
   ],
   "source": [
    "# da linha 1 a 3 localiza os indices \n",
    "len(ocorrencia)\n",
    "ocorrencia.head()"
   ]
  },
  {
   "cell_type": "code",
   "execution_count": 131,
   "id": "282a7e30",
   "metadata": {},
   "outputs": [
    {
     "data": {
      "text/plain": [
       "array(['MT', 'AM', 'PR', 'SP', 'PA', 'TO', 'SC', 'GO', 'BA', 'DF', 'MG',\n",
       "       'AC', 'RS', 'RR', 'MS', 'PE', 'RJ', 'AL', 'RO', 'MA', 'PI', 'CE',\n",
       "       'SE', 'ES', 'RN', 'AP', 'PB', '***'], dtype=object)"
      ]
     },
     "execution_count": 131,
     "metadata": {},
     "output_type": "execute_result"
    }
   ],
   "source": [
    "# Trazer ocorrencias unicas de cidade estado\n",
    "ocorrencia.loc[:,'ocorrencia_uf'].unique()"
   ]
  },
  {
   "cell_type": "markdown",
   "id": "d5738d2e",
   "metadata": {},
   "source": [
    "#### Verificando se é unico"
   ]
  },
  {
   "cell_type": "code",
   "execution_count": 135,
   "id": "2091f9f2",
   "metadata": {},
   "outputs": [],
   "source": [
    "# ocorrencia.codigo_ocorrencia.is_unique\n",
    "\n",
    "# ocorrencia.ocorrencia_uf.is_unique"
   ]
  },
  {
   "cell_type": "code",
   "execution_count": 138,
   "id": "ed7d4555",
   "metadata": {},
   "outputs": [
    {
     "data": {
      "text/html": [
       "<div>\n",
       "<style scoped>\n",
       "    .dataframe tbody tr th:only-of-type {\n",
       "        vertical-align: middle;\n",
       "    }\n",
       "\n",
       "    .dataframe tbody tr th {\n",
       "        vertical-align: top;\n",
       "    }\n",
       "\n",
       "    .dataframe thead th {\n",
       "        text-align: right;\n",
       "    }\n",
       "</style>\n",
       "<table border=\"1\" class=\"dataframe\">\n",
       "  <thead>\n",
       "    <tr style=\"text-align: right;\">\n",
       "      <th></th>\n",
       "      <th>codigo_ocorrencia</th>\n",
       "      <th>ocorrencia_classificacao</th>\n",
       "      <th>ocorrencia_uf</th>\n",
       "      <th>ocorrencia_aerodromo</th>\n",
       "      <th>ocorrencia_dia</th>\n",
       "      <th>ocorrencia_hora</th>\n",
       "      <th>ocorrencia_tipo</th>\n",
       "      <th>aeronave_operador_categoria</th>\n",
       "      <th>aeronave_tipo_veiculo</th>\n",
       "      <th>fator_nome</th>\n",
       "      <th>fator_area</th>\n",
       "    </tr>\n",
       "  </thead>\n",
       "  <tbody>\n",
       "    <tr>\n",
       "      <th>0</th>\n",
       "      <td>39527</td>\n",
       "      <td>ACIDENTE</td>\n",
       "      <td>MT</td>\n",
       "      <td>****</td>\n",
       "      <td>2010-04-01</td>\n",
       "      <td>17:30:00</td>\n",
       "      <td>OPERAÇÃO A BAIXA ALTITUDE</td>\n",
       "      <td>***</td>\n",
       "      <td>AVIÃO</td>\n",
       "      <td>APLICAÇÃO DE COMANDOS</td>\n",
       "      <td>FATOR OPERACIONAL</td>\n",
       "    </tr>\n",
       "    <tr>\n",
       "      <th>1</th>\n",
       "      <td>39527</td>\n",
       "      <td>ACIDENTE</td>\n",
       "      <td>MT</td>\n",
       "      <td>****</td>\n",
       "      <td>2010-04-01</td>\n",
       "      <td>17:30:00</td>\n",
       "      <td>OPERAÇÃO A BAIXA ALTITUDE</td>\n",
       "      <td>***</td>\n",
       "      <td>AVIÃO</td>\n",
       "      <td>JULGAMENTO DE PILOTAGEM</td>\n",
       "      <td>FATOR OPERACIONAL</td>\n",
       "    </tr>\n",
       "    <tr>\n",
       "      <th>2</th>\n",
       "      <td>39527</td>\n",
       "      <td>ACIDENTE</td>\n",
       "      <td>MT</td>\n",
       "      <td>****</td>\n",
       "      <td>2010-04-01</td>\n",
       "      <td>17:30:00</td>\n",
       "      <td>OPERAÇÃO A BAIXA ALTITUDE</td>\n",
       "      <td>***</td>\n",
       "      <td>AVIÃO</td>\n",
       "      <td>PLANEJAMENTO DE VOO</td>\n",
       "      <td>FATOR OPERACIONAL</td>\n",
       "    </tr>\n",
       "    <tr>\n",
       "      <th>3</th>\n",
       "      <td>39527</td>\n",
       "      <td>ACIDENTE</td>\n",
       "      <td>MT</td>\n",
       "      <td>****</td>\n",
       "      <td>2010-04-01</td>\n",
       "      <td>17:30:00</td>\n",
       "      <td>OPERAÇÃO A BAIXA ALTITUDE</td>\n",
       "      <td>***</td>\n",
       "      <td>AVIÃO</td>\n",
       "      <td>PROCESSO DECISÓRIO</td>\n",
       "      <td>FATOR HUMANO</td>\n",
       "    </tr>\n",
       "  </tbody>\n",
       "</table>\n",
       "</div>"
      ],
      "text/plain": [
       "   codigo_ocorrencia ocorrencia_classificacao ocorrencia_uf  \\\n",
       "0              39527                 ACIDENTE            MT   \n",
       "1              39527                 ACIDENTE            MT   \n",
       "2              39527                 ACIDENTE            MT   \n",
       "3              39527                 ACIDENTE            MT   \n",
       "\n",
       "  ocorrencia_aerodromo ocorrencia_dia ocorrencia_hora  \\\n",
       "0                 ****     2010-04-01        17:30:00   \n",
       "1                 ****     2010-04-01        17:30:00   \n",
       "2                 ****     2010-04-01        17:30:00   \n",
       "3                 ****     2010-04-01        17:30:00   \n",
       "\n",
       "             ocorrencia_tipo aeronave_operador_categoria  \\\n",
       "0  OPERAÇÃO A BAIXA ALTITUDE                         ***   \n",
       "1  OPERAÇÃO A BAIXA ALTITUDE                         ***   \n",
       "2  OPERAÇÃO A BAIXA ALTITUDE                         ***   \n",
       "3  OPERAÇÃO A BAIXA ALTITUDE                         ***   \n",
       "\n",
       "  aeronave_tipo_veiculo               fator_nome         fator_area  \n",
       "0                 AVIÃO    APLICAÇÃO DE COMANDOS  FATOR OPERACIONAL  \n",
       "1                 AVIÃO  JULGAMENTO DE PILOTAGEM  FATOR OPERACIONAL  \n",
       "2                 AVIÃO      PLANEJAMENTO DE VOO  FATOR OPERACIONAL  \n",
       "3                 AVIÃO       PROCESSO DECISÓRIO       FATOR HUMANO  "
      ]
     },
     "execution_count": 138,
     "metadata": {},
     "output_type": "execute_result"
    }
   ],
   "source": [
    "ocorrencia.loc[ocorrencia['codigo_ocorrencia'] == 39527]"
   ]
  },
  {
   "cell_type": "markdown",
   "id": "6f348986",
   "metadata": {},
   "source": [
    "#### Alterar os dados de uma coluna"
   ]
  },
  {
   "cell_type": "markdown",
   "id": "55b8a6af",
   "metadata": {},
   "source": [
    "# limpar sujeira abaixo\n",
    "ocorrencia_uf **\n",
    "ocorrencia_aerodromo ****\n",
    "ocorrencia_aerodromo ###!"
   ]
  },
  {
   "cell_type": "code",
   "execution_count": 143,
   "id": "542473cd",
   "metadata": {},
   "outputs": [
    {
     "data": {
      "text/html": [
       "<div>\n",
       "<style scoped>\n",
       "    .dataframe tbody tr th:only-of-type {\n",
       "        vertical-align: middle;\n",
       "    }\n",
       "\n",
       "    .dataframe tbody tr th {\n",
       "        vertical-align: top;\n",
       "    }\n",
       "\n",
       "    .dataframe thead th {\n",
       "        text-align: right;\n",
       "    }\n",
       "</style>\n",
       "<table border=\"1\" class=\"dataframe\">\n",
       "  <thead>\n",
       "    <tr style=\"text-align: right;\">\n",
       "      <th></th>\n",
       "      <th>codigo_ocorrencia</th>\n",
       "    </tr>\n",
       "  </thead>\n",
       "  <tbody>\n",
       "  </tbody>\n",
       "</table>\n",
       "</div>"
      ],
      "text/plain": [
       "Empty DataFrame\n",
       "Columns: [codigo_ocorrencia]\n",
       "Index: []"
      ]
     },
     "execution_count": 143,
     "metadata": {},
     "output_type": "execute_result"
    }
   ],
   "source": [
    "ocorrencia.loc[ocorrencia.codigo_ocorrencia == '****',['codigo_ocorrencia']]\n"
   ]
  },
  {
   "cell_type": "code",
   "execution_count": 145,
   "id": "5769c285",
   "metadata": {},
   "outputs": [
    {
     "data": {
      "text/html": [
       "<div>\n",
       "<style scoped>\n",
       "    .dataframe tbody tr th:only-of-type {\n",
       "        vertical-align: middle;\n",
       "    }\n",
       "\n",
       "    .dataframe tbody tr th {\n",
       "        vertical-align: top;\n",
       "    }\n",
       "\n",
       "    .dataframe thead th {\n",
       "        text-align: right;\n",
       "    }\n",
       "</style>\n",
       "<table border=\"1\" class=\"dataframe\">\n",
       "  <thead>\n",
       "    <tr style=\"text-align: right;\">\n",
       "      <th></th>\n",
       "      <th>codigo_ocorrencia</th>\n",
       "      <th>ocorrencia_classificacao</th>\n",
       "      <th>ocorrencia_uf</th>\n",
       "      <th>ocorrencia_aerodromo</th>\n",
       "      <th>ocorrencia_dia</th>\n",
       "      <th>ocorrencia_hora</th>\n",
       "      <th>ocorrencia_tipo</th>\n",
       "      <th>aeronave_operador_categoria</th>\n",
       "      <th>aeronave_tipo_veiculo</th>\n",
       "      <th>fator_nome</th>\n",
       "      <th>fator_area</th>\n",
       "    </tr>\n",
       "  </thead>\n",
       "  <tbody>\n",
       "    <tr>\n",
       "      <th>0</th>\n",
       "      <td>39527</td>\n",
       "      <td>ACIDENTE</td>\n",
       "      <td>MT</td>\n",
       "      <td>****</td>\n",
       "      <td>2010-04-01</td>\n",
       "      <td>17:30:00</td>\n",
       "      <td>OPERAÇÃO A BAIXA ALTITUDE</td>\n",
       "      <td>***</td>\n",
       "      <td>AVIÃO</td>\n",
       "      <td>APLICAÇÃO DE COMANDOS</td>\n",
       "      <td>FATOR OPERACIONAL</td>\n",
       "    </tr>\n",
       "    <tr>\n",
       "      <th>1</th>\n",
       "      <td>39527</td>\n",
       "      <td>ACIDENTE</td>\n",
       "      <td>MT</td>\n",
       "      <td>****</td>\n",
       "      <td>2010-04-01</td>\n",
       "      <td>17:30:00</td>\n",
       "      <td>OPERAÇÃO A BAIXA ALTITUDE</td>\n",
       "      <td>***</td>\n",
       "      <td>AVIÃO</td>\n",
       "      <td>JULGAMENTO DE PILOTAGEM</td>\n",
       "      <td>FATOR OPERACIONAL</td>\n",
       "    </tr>\n",
       "    <tr>\n",
       "      <th>2</th>\n",
       "      <td>39527</td>\n",
       "      <td>ACIDENTE</td>\n",
       "      <td>MT</td>\n",
       "      <td>****</td>\n",
       "      <td>2010-04-01</td>\n",
       "      <td>17:30:00</td>\n",
       "      <td>OPERAÇÃO A BAIXA ALTITUDE</td>\n",
       "      <td>***</td>\n",
       "      <td>AVIÃO</td>\n",
       "      <td>PLANEJAMENTO DE VOO</td>\n",
       "      <td>FATOR OPERACIONAL</td>\n",
       "    </tr>\n",
       "    <tr>\n",
       "      <th>3</th>\n",
       "      <td>39527</td>\n",
       "      <td>ACIDENTE</td>\n",
       "      <td>MT</td>\n",
       "      <td>****</td>\n",
       "      <td>2010-04-01</td>\n",
       "      <td>17:30:00</td>\n",
       "      <td>OPERAÇÃO A BAIXA ALTITUDE</td>\n",
       "      <td>***</td>\n",
       "      <td>AVIÃO</td>\n",
       "      <td>PROCESSO DECISÓRIO</td>\n",
       "      <td>FATOR HUMANO</td>\n",
       "    </tr>\n",
       "    <tr>\n",
       "      <th>4</th>\n",
       "      <td>39707</td>\n",
       "      <td>INCIDENTE GRAVE</td>\n",
       "      <td>AM</td>\n",
       "      <td>****</td>\n",
       "      <td>2010-09-01</td>\n",
       "      <td>12:30:00</td>\n",
       "      <td>COM TREM DE POUSO</td>\n",
       "      <td>***</td>\n",
       "      <td>AVIÃO</td>\n",
       "      <td>INDISCIPLINA DE VOO</td>\n",
       "      <td>FATOR OPERACIONAL</td>\n",
       "    </tr>\n",
       "  </tbody>\n",
       "</table>\n",
       "</div>"
      ],
      "text/plain": [
       "   codigo_ocorrencia ocorrencia_classificacao ocorrencia_uf  \\\n",
       "0              39527                 ACIDENTE            MT   \n",
       "1              39527                 ACIDENTE            MT   \n",
       "2              39527                 ACIDENTE            MT   \n",
       "3              39527                 ACIDENTE            MT   \n",
       "4              39707          INCIDENTE GRAVE            AM   \n",
       "\n",
       "  ocorrencia_aerodromo ocorrencia_dia ocorrencia_hora  \\\n",
       "0                 ****     2010-04-01        17:30:00   \n",
       "1                 ****     2010-04-01        17:30:00   \n",
       "2                 ****     2010-04-01        17:30:00   \n",
       "3                 ****     2010-04-01        17:30:00   \n",
       "4                 ****     2010-09-01        12:30:00   \n",
       "\n",
       "             ocorrencia_tipo aeronave_operador_categoria  \\\n",
       "0  OPERAÇÃO A BAIXA ALTITUDE                         ***   \n",
       "1  OPERAÇÃO A BAIXA ALTITUDE                         ***   \n",
       "2  OPERAÇÃO A BAIXA ALTITUDE                         ***   \n",
       "3  OPERAÇÃO A BAIXA ALTITUDE                         ***   \n",
       "4          COM TREM DE POUSO                         ***   \n",
       "\n",
       "  aeronave_tipo_veiculo               fator_nome         fator_area  \n",
       "0                 AVIÃO    APLICAÇÃO DE COMANDOS  FATOR OPERACIONAL  \n",
       "1                 AVIÃO  JULGAMENTO DE PILOTAGEM  FATOR OPERACIONAL  \n",
       "2                 AVIÃO      PLANEJAMENTO DE VOO  FATOR OPERACIONAL  \n",
       "3                 AVIÃO       PROCESSO DECISÓRIO       FATOR HUMANO  \n",
       "4                 AVIÃO      INDISCIPLINA DE VOO  FATOR OPERACIONAL  "
      ]
     },
     "execution_count": 145,
     "metadata": {},
     "output_type": "execute_result"
    }
   ],
   "source": [
    "ocorrencia.head()"
   ]
  },
  {
   "cell_type": "code",
   "execution_count": 147,
   "id": "cc735923",
   "metadata": {},
   "outputs": [
    {
     "name": "stdout",
     "output_type": "stream",
     "text": [
      "<class 'pandas.core.frame.DataFrame'>\n",
      "Int64Index: 4815 entries, 0 to 4814\n",
      "Data columns (total 11 columns):\n",
      " #   Column                       Non-Null Count  Dtype         \n",
      "---  ------                       --------------  -----         \n",
      " 0   codigo_ocorrencia            4815 non-null   int64         \n",
      " 1   ocorrencia_classificacao     4815 non-null   object        \n",
      " 2   ocorrencia_uf                4815 non-null   object        \n",
      " 3   ocorrencia_aerodromo         4815 non-null   object        \n",
      " 4   ocorrencia_dia               4815 non-null   datetime64[ns]\n",
      " 5   ocorrencia_hora              4815 non-null   object        \n",
      " 6   ocorrencia_tipo              4815 non-null   object        \n",
      " 7   aeronave_operador_categoria  4815 non-null   object        \n",
      " 8   aeronave_tipo_veiculo        4815 non-null   object        \n",
      " 9   fator_nome                   4815 non-null   object        \n",
      " 10  fator_area                   4815 non-null   object        \n",
      "dtypes: datetime64[ns](1), int64(1), object(9)\n",
      "memory usage: 451.4+ KB\n"
     ]
    }
   ],
   "source": [
    "ocorrencia.info()"
   ]
  },
  {
   "cell_type": "code",
   "execution_count": 148,
   "id": "a8713e16",
   "metadata": {},
   "outputs": [],
   "source": [
    "classificacao_ocorrencia = ocorrencia.copy()"
   ]
  },
  {
   "cell_type": "markdown",
   "id": "5fc6de1f",
   "metadata": {},
   "source": [
    "### Total de Incidentes e Acidentes"
   ]
  },
  {
   "cell_type": "code",
   "execution_count": 149,
   "id": "474a1002",
   "metadata": {},
   "outputs": [
    {
     "data": {
      "text/plain": [
       "<AxesSubplot:>"
      ]
     },
     "execution_count": 149,
     "metadata": {},
     "output_type": "execute_result"
    },
    {
     "data": {
      "image/png": "[encoded data removed]",
      "text/plain": [
       "<Figure size 432x288 with 1 Axes>"
      ]
     },
     "metadata": {
      "needs_background": "light"
     },
     "output_type": "display_data"
    }
   ],
   "source": [
    "\n",
    "classificacao_ocorrencia['ocorrencia_classificacao'].value_counts().plot.bar()"
   ]
  },
  {
   "cell_type": "markdown",
   "id": "d0a5c8da",
   "metadata": {},
   "source": [
    " ### Qual o estado que contem mais ocorrencia_classificacao"
   ]
  },
  {
   "cell_type": "markdown",
   "id": "a444d255",
   "metadata": {},
   "source": [
    "### Ocorrencia por estado\n",
    "14% acidentes relatados são do estado de são paulo  "
   ]
  },
  {
   "cell_type": "code",
   "execution_count": 154,
   "id": "131e44a7",
   "metadata": {},
   "outputs": [
    {
     "data": {
      "text/plain": [
       "ocorrencia_uf  ocorrencia_classificacao\n",
       "***            ACIDENTE                     0.062305\n",
       "AC             ACIDENTE                     0.332295\n",
       "               INCIDENTE GRAVE              0.373832\n",
       "AL             ACIDENTE                     0.560748\n",
       "               INCIDENTE GRAVE              0.228453\n",
       "                                             ...    \n",
       "SE             INCIDENTE GRAVE              0.020768\n",
       "SP             ACIDENTE                    14.870197\n",
       "               INCIDENTE GRAVE              2.720665\n",
       "TO             ACIDENTE                     1.059190\n",
       "               INCIDENTE GRAVE              0.228453\n",
       "Name: ocorrencia_classificacao, Length: 65, dtype: float64"
      ]
     },
     "execution_count": 154,
     "metadata": {},
     "output_type": "execute_result"
    }
   ],
   "source": [
    "group_by_por_estado_numero_incidentes = classificacao_ocorrencia.groupby(['ocorrencia_uf','ocorrencia_classificacao'])['ocorrencia_classificacao'].count()/len(ocorrencia)\n",
    "# group_by_por_estado_numero_incidentes.mul(100).plot.bar()\n",
    "group_by_por_estado_numero_incidentes.mul(100)"
   ]
  },
  {
   "cell_type": "markdown",
   "id": "8125c32c",
   "metadata": {},
   "source": [
    "### Por estado do maior numero de incidentes para o menor"
   ]
  },
  {
   "cell_type": "markdown",
   "id": "dd693903",
   "metadata": {},
   "source": [
    "### Ocorrencia por Estado por tipo de classificação"
   ]
  },
  {
   "cell_type": "code",
   "execution_count": 155,
   "id": "eff1d9cd",
   "metadata": {},
   "outputs": [
    {
     "data": {
      "text/plain": [
       "ocorrencia_uf  ocorrencia_classificacao\n",
       "***            ACIDENTE                      3\n",
       "AC             ACIDENTE                     16\n",
       "               INCIDENTE GRAVE              18\n",
       "AL             ACIDENTE                     27\n",
       "               INCIDENTE GRAVE              11\n",
       "                                          ... \n",
       "SE             INCIDENTE GRAVE               1\n",
       "SP             ACIDENTE                    716\n",
       "               INCIDENTE GRAVE             131\n",
       "TO             ACIDENTE                     51\n",
       "               INCIDENTE GRAVE              11\n",
       "Name: ocorrencia_classificacao, Length: 65, dtype: int64"
      ]
     },
     "execution_count": 155,
     "metadata": {},
     "output_type": "execute_result"
    }
   ],
   "source": [
    "group_by_por_estado = classificacao_ocorrencia.groupby(['ocorrencia_uf','ocorrencia_classificacao'])['ocorrencia_classificacao'].count()\n",
    "group_by_por_estado"
   ]
  },
  {
   "cell_type": "code",
   "execution_count": null,
   "id": "788c87c8",
   "metadata": {},
   "outputs": [],
   "source": []
  }
 ],
 "metadata": {
  "interpreter": {
   "hash": "2f566aa225148740d66d7bffa8fbb341b94ef6f9f805c9c9e52b474a3635c9a1"
  },
  "kernelspec": {
   "display_name": "Python 3",
   "language": "python",
   "name": "python3"
  },
  "language_info": {
   "codemirror_mode": {
    "name": "ipython",
    "version": 3
   },
   "file_extension": ".py",
   "mimetype": "text/x-python",
   "name": "python",
   "nbconvert_exporter": "python",
   "pygments_lexer": "ipython3",
   "version": "3.8.10"
  }
 },
 "nbformat": 4,
 "nbformat_minor": 5
}
