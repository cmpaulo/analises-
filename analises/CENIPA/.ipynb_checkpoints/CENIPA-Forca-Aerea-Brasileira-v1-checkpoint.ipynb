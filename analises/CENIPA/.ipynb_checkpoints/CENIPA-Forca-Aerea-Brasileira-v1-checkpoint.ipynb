{
 "cells": [
  {
   "cell_type": "markdown",
   "id": "19b8eb64",
   "metadata": {},
   "source": [
    "## CENIPA"
   ]
  },
  {
   "cell_type": "markdown",
   "id": "7c69c743",
   "metadata": {},
   "source": [
    "## Importando bibliotecas"
   ]
  },
  {
   "cell_type": "code",
   "execution_count": 1,
   "id": "e375dd64",
   "metadata": {},
   "outputs": [],
   "source": [
    "import pandas as pd\n",
    "import numpy as np\n",
    "import matplotlib.pyplot as plt"
   ]
  },
  {
   "cell_type": "markdown",
   "id": "f49d82ff",
   "metadata": {},
   "source": [
    "### Lendo o dataset"
   ]
  },
  {
   "cell_type": "markdown",
   "id": "38bbcfb4",
   "metadata": {},
   "source": [
    "ocorrencia.csv colunas\n",
    "codigo_ocorrencia\n",
    "codigo_ocorrencia1\n",
    "codigo_ocorrencia2\n",
    "codigo_ocorrencia3\t\n",
    "ocorrencia_classificacao\n",
    "ocorrencia_uf\n",
    "ocorrencia_aerodromo\n",
    "ocorrencia_dia\n",
    "ocorrencia_hora\n",
    "\n",
    "\n",
    "ocorrencia_tipo.csv colunas\n",
    "codigo_ocorrencia1\n",
    "ocorrencia_tipo\n",
    "\n",
    "aeronave.csv \n",
    "codigo_ocorrencia2\n",
    "aeronave_operador_categoria\n",
    "aeronave_tipo_veiculo\n",
    "\n",
    "fator_contribuinte.csv\n",
    "codigo_ocorrencia3\n",
    "fator_nome\n",
    "fator_area\n"
   ]
  },
  {
   "cell_type": "code",
   "execution_count": 3,
   "id": "496213f9",
   "metadata": {},
   "outputs": [],
   "source": [
    "# 1-\n",
    "principal = pd.read_csv(\"./data/ocorrencia.csv\", sep=';', parse_dates=['ocorrencia_dia'],skip_blank_lines=True)\n",
    "# estas são as tabelas aeronave.csv  fator_contribuinte.csv  ocorrencia.csv  ocorrencia_tipo.csv\n",
    "ocorrencia_tipo = pd.read_csv(\"./data/ocorrencia_tipo.csv\", sep=';', skip_blank_lines=True)\n",
    "\n",
    "aeronave = pd.read_csv(\"./data/aeronave.csv\", sep=';', skip_blank_lines=True)\n",
    "\n",
    "fator_contribuinte = pd.read_csv(\"./data/fator_contribuinte.csv\", sep=';', skip_blank_lines=True)\n"
   ]
  },
  {
   "cell_type": "code",
   "execution_count": 4,
   "id": "5713ad3a",
   "metadata": {},
   "outputs": [],
   "source": [
    "novoprincipal = principal.merge(ocorrencia_tipo,how='inner',on=['codigo_ocorrencia1'])\n",
    "nprin = novoprincipal.merge(aeronave, how='inner', on = ['codigo_ocorrencia2'])\n",
    "# zprin = nprin.merge(fator_contribuinte, how='inner', on = ['codigo_ocorrencia3']) 'fator_nome','fator_area'"
   ]
  },
  {
   "cell_type": "code",
   "execution_count": 6,
   "id": "253990c7",
   "metadata": {},
   "outputs": [],
   "source": [
    "umdf = nprin.loc[:,['codigo_ocorrencia','ocorrencia_classificacao', 'ocorrencia_uf' ,'ocorrencia_aerodromo', 'ocorrencia_dia' ,'ocorrencia_hora','ocorrencia_tipo',\n",
    "                    'aeronave_operador_categoria','aeronave_tipo_veiculo']]"
   ]
  },
  {
   "cell_type": "code",
   "execution_count": 7,
   "id": "24e55e01",
   "metadata": {},
   "outputs": [],
   "source": [
    "umdf.head()\n",
    "umdf.to_csv('./data/ocorrencias_abril2010_jun2020.csv')\n"
   ]
  },
  {
   "cell_type": "markdown",
   "id": "f7bdb3e2",
   "metadata": {},
   "source": [
    "### Limpeza"
   ]
  },
  {
   "cell_type": "code",
   "execution_count": 8,
   "id": "e954f3a9",
   "metadata": {},
   "outputs": [],
   "source": [
    "ocorrencia = pd.read_csv('./data/ocorrencias_abril2010_jun2020.csv', parse_dates=['ocorrencia_dia'], index_col='Unnamed: 0')"
   ]
  },
  {
   "cell_type": "code",
   "execution_count": 11,
   "id": "c109d1c4",
   "metadata": {},
   "outputs": [
    {
     "data": {
      "text/html": [
       "<div>\n",
       "<style scoped>\n",
       "    .dataframe tbody tr th:only-of-type {\n",
       "        vertical-align: middle;\n",
       "    }\n",
       "\n",
       "    .dataframe tbody tr th {\n",
       "        vertical-align: top;\n",
       "    }\n",
       "\n",
       "    .dataframe thead th {\n",
       "        text-align: right;\n",
       "    }\n",
       "</style>\n",
       "<table border=\"1\" class=\"dataframe\">\n",
       "  <thead>\n",
       "    <tr style=\"text-align: right;\">\n",
       "      <th></th>\n",
       "      <th>codigo_ocorrencia</th>\n",
       "      <th>ocorrencia_classificacao</th>\n",
       "      <th>ocorrencia_uf</th>\n",
       "      <th>ocorrencia_aerodromo</th>\n",
       "      <th>ocorrencia_dia</th>\n",
       "      <th>ocorrencia_hora</th>\n",
       "      <th>ocorrencia_tipo</th>\n",
       "      <th>aeronave_operador_categoria</th>\n",
       "      <th>aeronave_tipo_veiculo</th>\n",
       "    </tr>\n",
       "  </thead>\n",
       "  <tbody>\n",
       "    <tr>\n",
       "      <th>0</th>\n",
       "      <td>40211</td>\n",
       "      <td>INCIDENTE</td>\n",
       "      <td>RJ</td>\n",
       "      <td>****</td>\n",
       "      <td>2010-03-01</td>\n",
       "      <td>12:00:00</td>\n",
       "      <td>TRÁFEGO AÉREO</td>\n",
       "      <td>TÁXI AÉREO</td>\n",
       "      <td>HELICÓPTERO</td>\n",
       "    </tr>\n",
       "    <tr>\n",
       "      <th>1</th>\n",
       "      <td>40349</td>\n",
       "      <td>INCIDENTE</td>\n",
       "      <td>PA</td>\n",
       "      <td>SBBE</td>\n",
       "      <td>2010-03-01</td>\n",
       "      <td>11:05:00</td>\n",
       "      <td>COLISÃO COM AVE</td>\n",
       "      <td>REGULAR</td>\n",
       "      <td>AVIÃO</td>\n",
       "    </tr>\n",
       "    <tr>\n",
       "      <th>2</th>\n",
       "      <td>40351</td>\n",
       "      <td>INCIDENTE</td>\n",
       "      <td>RJ</td>\n",
       "      <td>SBRJ</td>\n",
       "      <td>2010-03-01</td>\n",
       "      <td>03:00:00</td>\n",
       "      <td>COLISÃO COM AVE</td>\n",
       "      <td>REGULAR</td>\n",
       "      <td>AVIÃO</td>\n",
       "    </tr>\n",
       "    <tr>\n",
       "      <th>3</th>\n",
       "      <td>39527</td>\n",
       "      <td>ACIDENTE</td>\n",
       "      <td>MT</td>\n",
       "      <td>****</td>\n",
       "      <td>2010-04-01</td>\n",
       "      <td>17:30:00</td>\n",
       "      <td>OPERAÇÃO A BAIXA ALTITUDE</td>\n",
       "      <td>***</td>\n",
       "      <td>AVIÃO</td>\n",
       "    </tr>\n",
       "    <tr>\n",
       "      <th>4</th>\n",
       "      <td>40324</td>\n",
       "      <td>INCIDENTE</td>\n",
       "      <td>RS</td>\n",
       "      <td>SBPK</td>\n",
       "      <td>2010-05-01</td>\n",
       "      <td>19:25:00</td>\n",
       "      <td>OUTROS</td>\n",
       "      <td>REGULAR</td>\n",
       "      <td>AVIÃO</td>\n",
       "    </tr>\n",
       "  </tbody>\n",
       "</table>\n",
       "</div>"
      ],
      "text/plain": [
       "   codigo_ocorrencia ocorrencia_classificacao ocorrencia_uf  \\\n",
       "0              40211                INCIDENTE            RJ   \n",
       "1              40349                INCIDENTE            PA   \n",
       "2              40351                INCIDENTE            RJ   \n",
       "3              39527                 ACIDENTE            MT   \n",
       "4              40324                INCIDENTE            RS   \n",
       "\n",
       "  ocorrencia_aerodromo ocorrencia_dia ocorrencia_hora  \\\n",
       "0                 ****     2010-03-01        12:00:00   \n",
       "1                 SBBE     2010-03-01        11:05:00   \n",
       "2                 SBRJ     2010-03-01        03:00:00   \n",
       "3                 ****     2010-04-01        17:30:00   \n",
       "4                 SBPK     2010-05-01        19:25:00   \n",
       "\n",
       "             ocorrencia_tipo aeronave_operador_categoria aeronave_tipo_veiculo  \n",
       "0              TRÁFEGO AÉREO                  TÁXI AÉREO           HELICÓPTERO  \n",
       "1            COLISÃO COM AVE                     REGULAR                 AVIÃO  \n",
       "2            COLISÃO COM AVE                     REGULAR                 AVIÃO  \n",
       "3  OPERAÇÃO A BAIXA ALTITUDE                         ***                 AVIÃO  \n",
       "4                     OUTROS                     REGULAR                 AVIÃO  "
      ]
     },
     "execution_count": 11,
     "metadata": {},
     "output_type": "execute_result"
    }
   ],
   "source": [
    "ocorrencia.head()"
   ]
  },
  {
   "cell_type": "code",
   "execution_count": 12,
   "id": "188f1df5",
   "metadata": {},
   "outputs": [
    {
     "data": {
      "text/html": [
       "<div>\n",
       "<style scoped>\n",
       "    .dataframe tbody tr th:only-of-type {\n",
       "        vertical-align: middle;\n",
       "    }\n",
       "\n",
       "    .dataframe tbody tr th {\n",
       "        vertical-align: top;\n",
       "    }\n",
       "\n",
       "    .dataframe thead th {\n",
       "        text-align: right;\n",
       "    }\n",
       "</style>\n",
       "<table border=\"1\" class=\"dataframe\">\n",
       "  <thead>\n",
       "    <tr style=\"text-align: right;\">\n",
       "      <th></th>\n",
       "      <th>codigo_ocorrencia</th>\n",
       "      <th>ocorrencia_classificacao</th>\n",
       "      <th>ocorrencia_uf</th>\n",
       "      <th>ocorrencia_aerodromo</th>\n",
       "      <th>ocorrencia_dia</th>\n",
       "      <th>ocorrencia_hora</th>\n",
       "      <th>ocorrencia_tipo</th>\n",
       "      <th>aeronave_operador_categoria</th>\n",
       "      <th>aeronave_tipo_veiculo</th>\n",
       "    </tr>\n",
       "  </thead>\n",
       "  <tbody>\n",
       "    <tr>\n",
       "      <th>0</th>\n",
       "      <td>40211</td>\n",
       "      <td>INCIDENTE</td>\n",
       "      <td>RJ</td>\n",
       "      <td>****</td>\n",
       "      <td>2010-03-01</td>\n",
       "      <td>12:00:00</td>\n",
       "      <td>TRÁFEGO AÉREO</td>\n",
       "      <td>TÁXI AÉREO</td>\n",
       "      <td>HELICÓPTERO</td>\n",
       "    </tr>\n",
       "    <tr>\n",
       "      <th>1</th>\n",
       "      <td>40349</td>\n",
       "      <td>INCIDENTE</td>\n",
       "      <td>PA</td>\n",
       "      <td>SBBE</td>\n",
       "      <td>2010-03-01</td>\n",
       "      <td>11:05:00</td>\n",
       "      <td>COLISÃO COM AVE</td>\n",
       "      <td>REGULAR</td>\n",
       "      <td>AVIÃO</td>\n",
       "    </tr>\n",
       "    <tr>\n",
       "      <th>2</th>\n",
       "      <td>40351</td>\n",
       "      <td>INCIDENTE</td>\n",
       "      <td>RJ</td>\n",
       "      <td>SBRJ</td>\n",
       "      <td>2010-03-01</td>\n",
       "      <td>03:00:00</td>\n",
       "      <td>COLISÃO COM AVE</td>\n",
       "      <td>REGULAR</td>\n",
       "      <td>AVIÃO</td>\n",
       "    </tr>\n",
       "    <tr>\n",
       "      <th>3</th>\n",
       "      <td>39527</td>\n",
       "      <td>ACIDENTE</td>\n",
       "      <td>MT</td>\n",
       "      <td>****</td>\n",
       "      <td>2010-04-01</td>\n",
       "      <td>17:30:00</td>\n",
       "      <td>OPERAÇÃO A BAIXA ALTITUDE</td>\n",
       "      <td>***</td>\n",
       "      <td>AVIÃO</td>\n",
       "    </tr>\n",
       "    <tr>\n",
       "      <th>4</th>\n",
       "      <td>40324</td>\n",
       "      <td>INCIDENTE</td>\n",
       "      <td>RS</td>\n",
       "      <td>SBPK</td>\n",
       "      <td>2010-05-01</td>\n",
       "      <td>19:25:00</td>\n",
       "      <td>OUTROS</td>\n",
       "      <td>REGULAR</td>\n",
       "      <td>AVIÃO</td>\n",
       "    </tr>\n",
       "  </tbody>\n",
       "</table>\n",
       "</div>"
      ],
      "text/plain": [
       "   codigo_ocorrencia ocorrencia_classificacao ocorrencia_uf  \\\n",
       "0              40211                INCIDENTE            RJ   \n",
       "1              40349                INCIDENTE            PA   \n",
       "2              40351                INCIDENTE            RJ   \n",
       "3              39527                 ACIDENTE            MT   \n",
       "4              40324                INCIDENTE            RS   \n",
       "\n",
       "  ocorrencia_aerodromo ocorrencia_dia ocorrencia_hora  \\\n",
       "0                 ****     2010-03-01        12:00:00   \n",
       "1                 SBBE     2010-03-01        11:05:00   \n",
       "2                 SBRJ     2010-03-01        03:00:00   \n",
       "3                 ****     2010-04-01        17:30:00   \n",
       "4                 SBPK     2010-05-01        19:25:00   \n",
       "\n",
       "             ocorrencia_tipo aeronave_operador_categoria aeronave_tipo_veiculo  \n",
       "0              TRÁFEGO AÉREO                  TÁXI AÉREO           HELICÓPTERO  \n",
       "1            COLISÃO COM AVE                     REGULAR                 AVIÃO  \n",
       "2            COLISÃO COM AVE                     REGULAR                 AVIÃO  \n",
       "3  OPERAÇÃO A BAIXA ALTITUDE                         ***                 AVIÃO  \n",
       "4                     OUTROS                     REGULAR                 AVIÃO  "
      ]
     },
     "execution_count": 12,
     "metadata": {},
     "output_type": "execute_result"
    }
   ],
   "source": [
    "\n",
    "# da linha 1 a 3 localiza os indices \n",
    "len(ocorrencia)\n",
    "ocorrencia.head()"
   ]
  },
  {
   "cell_type": "code",
   "execution_count": 19,
   "id": "cdf21939",
   "metadata": {},
   "outputs": [
    {
     "data": {
      "text/plain": [
       "codigo_ocorrencia3  fator_area         fator_area       \n",
       "39115               FATOR HUMANO       FATOR HUMANO         2\n",
       "                    FATOR OPERACIONAL  FATOR OPERACIONAL    4\n",
       "39156               FATOR OPERACIONAL  FATOR OPERACIONAL    3\n",
       "39235               FATOR OPERACIONAL  FATOR OPERACIONAL    2\n",
       "39275               FATOR HUMANO       FATOR HUMANO         7\n",
       "                                                           ..\n",
       "79671               FATOR OPERACIONAL  FATOR OPERACIONAL    1\n",
       "79692               FATOR HUMANO       FATOR HUMANO         3\n",
       "                    FATOR OPERACIONAL  FATOR OPERACIONAL    2\n",
       "79713               FATOR HUMANO       FATOR HUMANO         4\n",
       "                    FATOR OPERACIONAL  FATOR OPERACIONAL    3\n",
       "Name: fator_area, Length: 1682, dtype: int64"
      ]
     },
     "execution_count": 19,
     "metadata": {},
     "output_type": "execute_result"
    }
   ],
   "source": [
    "fatores = pd.read_csv('./data/fator_contribuinte.csv', sep=';', skip_blank_lines=True)\n",
    "fatores = fatores.loc[:,['codigo_ocorrencia3','fator_nome','fator_area']]\n",
    "fatores\n",
    "nunico = fatores.groupby(['codigo_ocorrencia3','fator_area'])['fator_area'].value_counts()#.sort_values(by='ocorrencia_uf',ascending=True)\n",
    "nunico#.reset_index()\n",
    "# # nunico.plot.barh(y='ocorrencia_uf')"
   ]
  },
  {
   "cell_type": "code",
   "execution_count": 25,
   "id": "282a7e30",
   "metadata": {},
   "outputs": [
    {
     "data": {
      "text/plain": [
       "<AxesSubplot:ylabel='fator_area'>"
      ]
     },
     "execution_count": 25,
     "metadata": {},
     "output_type": "execute_result"
    },
    {
     "data": {
      "image/png": "[encoded data removed]",
      "text/plain": [
       "<Figure size 432x288 with 1 Axes>"
      ]
     },
     "metadata": {
      "needs_background": "light"
     },
     "output_type": "display_data"
    }
   ],
   "source": [
    "# Trazer ocorrencias unicas de cidade estado\n",
    "nd = fatores.groupby('fator_area').count().sort_values(by='codigo_ocorrencia3',ascending=True)\n",
    "nd.plot.barh(y='codigo_ocorrencia3')"
   ]
  },
  {
   "cell_type": "code",
   "execution_count": 27,
   "id": "1aad87f5",
   "metadata": {},
   "outputs": [
    {
     "data": {
      "text/plain": [
       "<AxesSubplot:ylabel='fator_nome'>"
      ]
     },
     "execution_count": 27,
     "metadata": {},
     "output_type": "execute_result"
    },
    {
     "data": {
      "image/png": "[encoded data removed]",
      "text/plain": [
       "<Figure size 432x288 with 1 Axes>"
      ]
     },
     "metadata": {
      "needs_background": "light"
     },
     "output_type": "display_data"
    }
   ],
   "source": [
    "pp = fatores.loc[fatores.fator_area == 'FATOR OPERACIONAL']#.sort_values(by='fator_area')#,ascending=False)\n",
    "gby = pp.groupby('fator_nome').count().sort_values(by=['codigo_ocorrencia3'],ascending=True)\n",
    "gby10 = gby[gby.codigo_ocorrencia3 > 10]\n",
    "gby10\n",
    "gby10.plot.barh(y='codigo_ocorrencia3')"
   ]
  },
  {
   "cell_type": "code",
   "execution_count": 29,
   "id": "b7cc52fe",
   "metadata": {},
   "outputs": [
    {
     "data": {
      "text/plain": [
       "<AxesSubplot:ylabel='fator_nome'>"
      ]
     },
     "execution_count": 29,
     "metadata": {},
     "output_type": "execute_result"
    },
    {
     "data": {
      "image/png": "[encoded data removed]",
      "text/plain": [
       "<Figure size 432x288 with 1 Axes>"
      ]
     },
     "metadata": {
      "needs_background": "light"
     },
     "output_type": "display_data"
    }
   ],
   "source": [
    "pp = fatores.loc[fatores.fator_area == 'FATOR HUMANO']#.sort_values(by='fator_area')#,ascending=False)\n",
    "gby = pp.groupby('fator_nome').count().sort_values(by=['codigo_ocorrencia3'],ascending=True)\n",
    "gby10 = gby[gby.codigo_ocorrencia3 > 10]\n",
    "gby10\n",
    "gby10.plot.barh(y='codigo_ocorrencia3')"
   ]
  },
  {
   "cell_type": "markdown",
   "id": "198621ef",
   "metadata": {},
   "source": [
    "Quais fatores mais influenciaram para o acidente acontecer? netes 10 anos dos acidentes registrados."
   ]
  },
  {
   "cell_type": "code",
   "execution_count": 31,
   "id": "2091f9f2",
   "metadata": {},
   "outputs": [
    {
     "data": {
      "text/plain": [
       "<AxesSubplot:ylabel='fator_nome'>"
      ]
     },
     "execution_count": 31,
     "metadata": {},
     "output_type": "execute_result"
    },
    {
     "data": {
      "image/png": "[encoded data removed]",
      "text/plain": [
       "<Figure size 432x288 with 1 Axes>"
      ]
     },
     "metadata": {
      "needs_background": "light"
     },
     "output_type": "display_data"
    }
   ],
   "source": [
    "# esta ok.\n",
    "pp = fatores.groupby(['fator_nome']).count().sort_values(by=['fator_area','fator_nome'],ascending=True)\n",
    "pp[pp.fator_area > 10].plot.barh(y='codigo_ocorrencia3')"
   ]
  },
  {
   "cell_type": "markdown",
   "id": "6f348986",
   "metadata": {},
   "source": [
    "#### Alterar os dados de uma coluna"
   ]
  },
  {
   "cell_type": "markdown",
   "id": "5fc6de1f",
   "metadata": {},
   "source": [
    "### Total de Incidentes e Acidentes"
   ]
  },
  {
   "cell_type": "code",
   "execution_count": 32,
   "id": "474a1002",
   "metadata": {},
   "outputs": [
    {
     "data": {
      "text/plain": [
       "<AxesSubplot:>"
      ]
     },
     "execution_count": 32,
     "metadata": {},
     "output_type": "execute_result"
    },
    {
     "data": {
      "image/png": "[encoded data removed]",
      "text/plain": [
       "<Figure size 432x288 with 1 Axes>"
      ]
     },
     "metadata": {
      "needs_background": "light"
     },
     "output_type": "display_data"
    }
   ],
   "source": [
    "ocorrencia['ocorrencia_classificacao'].value_counts().div(len(ocorrencia)).mul(100).sort_index().plot.bar()\n",
    "# ocorrencia['ocorrencia_classificacao'].value_counts().div(len(ocorrencia)).mul(100).sort_index()"
   ]
  },
  {
   "cell_type": "code",
   "execution_count": 33,
   "id": "79aedff0",
   "metadata": {},
   "outputs": [
    {
     "data": {
      "text/html": [
       "<div>\n",
       "<style scoped>\n",
       "    .dataframe tbody tr th:only-of-type {\n",
       "        vertical-align: middle;\n",
       "    }\n",
       "\n",
       "    .dataframe tbody tr th {\n",
       "        vertical-align: top;\n",
       "    }\n",
       "\n",
       "    .dataframe thead th {\n",
       "        text-align: right;\n",
       "    }\n",
       "</style>\n",
       "<table border=\"1\" class=\"dataframe\">\n",
       "  <thead>\n",
       "    <tr style=\"text-align: right;\">\n",
       "      <th></th>\n",
       "      <th>aeronave_tipo_veiculo</th>\n",
       "      <th>ocorrencia_classificacao</th>\n",
       "      <th>codigo_ocorrencia</th>\n",
       "    </tr>\n",
       "  </thead>\n",
       "  <tbody>\n",
       "    <tr>\n",
       "      <th>6</th>\n",
       "      <td>AVIÃO</td>\n",
       "      <td>ACIDENTE</td>\n",
       "      <td>28.914487</td>\n",
       "    </tr>\n",
       "    <tr>\n",
       "      <th>7</th>\n",
       "      <td>AVIÃO</td>\n",
       "      <td>INCIDENTE</td>\n",
       "      <td>56.618508</td>\n",
       "    </tr>\n",
       "    <tr>\n",
       "      <th>8</th>\n",
       "      <td>AVIÃO</td>\n",
       "      <td>INCIDENTE GRAVE</td>\n",
       "      <td>14.467005</td>\n",
       "    </tr>\n",
       "    <tr>\n",
       "      <th>11</th>\n",
       "      <td>HELICÓPTERO</td>\n",
       "      <td>ACIDENTE</td>\n",
       "      <td>34.393064</td>\n",
       "    </tr>\n",
       "    <tr>\n",
       "      <th>12</th>\n",
       "      <td>HELICÓPTERO</td>\n",
       "      <td>INCIDENTE</td>\n",
       "      <td>56.069364</td>\n",
       "    </tr>\n",
       "    <tr>\n",
       "      <th>13</th>\n",
       "      <td>HELICÓPTERO</td>\n",
       "      <td>INCIDENTE GRAVE</td>\n",
       "      <td>9.537572</td>\n",
       "    </tr>\n",
       "  </tbody>\n",
       "</table>\n",
       "</div>"
      ],
      "text/plain": [
       "   aeronave_tipo_veiculo ocorrencia_classificacao  codigo_ocorrencia\n",
       "6                  AVIÃO                 ACIDENTE          28.914487\n",
       "7                  AVIÃO                INCIDENTE          56.618508\n",
       "8                  AVIÃO          INCIDENTE GRAVE          14.467005\n",
       "11           HELICÓPTERO                 ACIDENTE          34.393064\n",
       "12           HELICÓPTERO                INCIDENTE          56.069364\n",
       "13           HELICÓPTERO          INCIDENTE GRAVE           9.537572"
      ]
     },
     "execution_count": 33,
     "metadata": {},
     "output_type": "execute_result"
    }
   ],
   "source": [
    "cda = ocorrencia.groupby(['aeronave_tipo_veiculo','ocorrencia_classificacao']).count().sort_values(by='aeronave_tipo_veiculo',ascending=True)['codigo_ocorrencia']\n",
    "total = ocorrencia.groupby(['aeronave_tipo_veiculo']).count().sort_values(by='aeronave_tipo_veiculo',ascending=True)['codigo_ocorrencia']\n",
    "cda = cda.div(total).mul(100).reset_index()\n",
    "cda.loc[(cda.aeronave_tipo_veiculo == 'AVIÃO') | (cda.aeronave_tipo_veiculo == 'HELICÓPTERO')]"
   ]
  },
  {
   "cell_type": "markdown",
   "id": "d0a5c8da",
   "metadata": {},
   "source": [
    " ### Qual o estado que contem mais ocorrencia_classificacao"
   ]
  },
  {
   "cell_type": "markdown",
   "id": "a444d255",
   "metadata": {},
   "source": [
    "### Ocorrencia por estado\n",
    "14,8% acidentes relatados são do estado de são paulo  "
   ]
  },
  {
   "cell_type": "code",
   "execution_count": 34,
   "id": "131e44a7",
   "metadata": {},
   "outputs": [
    {
     "data": {
      "text/plain": [
       "ocorrencia_uf  ocorrencia_classificacao\n",
       "PR             INCIDENTE GRAVE              1.069519\n",
       "AM             ACIDENTE                     1.132432\n",
       "SC             ACIDENTE                     1.132432\n",
       "PE             INCIDENTE                    1.195344\n",
       "BA             ACIDENTE                     1.195344\n",
       "RJ             ACIDENTE                     1.242529\n",
       "MG             INCIDENTE GRAVE              1.289714\n",
       "GO             INCIDENTE GRAVE              1.321170\n",
       "MS             ACIDENTE                     1.431268\n",
       "MT             INCIDENTE                    1.446996\n",
       "SC             INCIDENTE                    1.808745\n",
       "DF             INCIDENTE                    1.871658\n",
       "GO             INCIDENTE                    1.966027\n",
       "PA             INCIDENTE                    2.013212\n",
       "BA             INCIDENTE                    2.028940\n",
       "PA             ACIDENTE                     2.170494\n",
       "GO             ACIDENTE                     2.217679\n",
       "RS             INCIDENTE                    2.343504\n",
       "AM             INCIDENTE                    2.359232\n",
       "MG             ACIDENTE                     2.500786\n",
       "PR             ACIDENTE                     2.516515\n",
       "SP             INCIDENTE GRAVE              2.563699\n",
       "RS             ACIDENTE                     2.815351\n",
       "MT             ACIDENTE                     2.941176\n",
       "PR             INCIDENTE                    4.608367\n",
       "MG             INCIDENTE                    5.363322\n",
       "RJ             INCIDENTE                    6.605851\n",
       "SP             ACIDENTE                     6.936143\n",
       "               INCIDENTE                   14.564328\n",
       "Name: codigo_ocorrencia, dtype: float64"
      ]
     },
     "execution_count": 34,
     "metadata": {},
     "output_type": "execute_result"
    }
   ],
   "source": [
    "ge = ocorrencia.groupby(['ocorrencia_uf','ocorrencia_classificacao']).count().sort_values(by='codigo_ocorrencia',ascending=True)/len(ocorrencia)\n",
    "# ge['codigo_ocorrencia'][ge.codigo_ocorrencia> 0.01].mul(100).plot.barh()\n",
    "ge['codigo_ocorrencia'][ge.codigo_ocorrencia> 0.01].mul(100)\n",
    "# ge.mul(100).plot.barh()"
   ]
  },
  {
   "cell_type": "markdown",
   "id": "8125c32c",
   "metadata": {},
   "source": [
    "### Por estado do maior numero de incidentes para o menor"
   ]
  },
  {
   "cell_type": "markdown",
   "id": "dd693903",
   "metadata": {},
   "source": [
    "### Ocorrencia por Estado por tipo de classificação"
   ]
  },
  {
   "cell_type": "code",
   "execution_count": 35,
   "id": "eff1d9cd",
   "metadata": {},
   "outputs": [
    {
     "data": {
      "text/plain": [
       "ocorrencia_uf  ocorrencia_classificacao\n",
       "***            ACIDENTE                      2\n",
       "AC             ACIDENTE                     14\n",
       "               INCIDENTE                    38\n",
       "               INCIDENTE GRAVE              13\n",
       "AL             ACIDENTE                      4\n",
       "                                          ... \n",
       "SP             INCIDENTE                   926\n",
       "               INCIDENTE GRAVE             163\n",
       "TO             ACIDENTE                     23\n",
       "               INCIDENTE                    22\n",
       "               INCIDENTE GRAVE              12\n",
       "Name: ocorrencia_classificacao, Length: 82, dtype: int64"
      ]
     },
     "execution_count": 35,
     "metadata": {},
     "output_type": "execute_result"
    }
   ],
   "source": [
    "group_by_por_estado = ocorrencia.groupby(['ocorrencia_uf','ocorrencia_classificacao'])['ocorrencia_classificacao'].count()\n",
    "group_by_por_estado"
   ]
  },
  {
   "cell_type": "code",
   "execution_count": null,
   "id": "788c87c8",
   "metadata": {},
   "outputs": [],
   "source": []
  },
  {
   "cell_type": "code",
   "execution_count": null,
   "id": "55573258",
   "metadata": {},
   "outputs": [],
   "source": []
  }
 ],
 "metadata": {
  "interpreter": {
   "hash": "2f566aa225148740d66d7bffa8fbb341b94ef6f9f805c9c9e52b474a3635c9a1"
  },
  "kernelspec": {
   "display_name": "Python 3",
   "language": "python",
   "name": "python3"
  },
  "language_info": {
   "codemirror_mode": {
    "name": "ipython",
    "version": 3
   },
   "file_extension": ".py",
   "mimetype": "text/x-python",
   "name": "python",
   "nbconvert_exporter": "python",
   "pygments_lexer": "ipython3",
   "version": "3.8.10"
  }
 },
 "nbformat": 4,
 "nbformat_minor": 5
}
